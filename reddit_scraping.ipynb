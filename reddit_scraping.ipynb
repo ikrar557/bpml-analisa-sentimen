{
 "cells": [
  {
   "cell_type": "markdown",
   "metadata": {},
   "source": [
    "## Import Libraries"
   ]
  },
  {
   "cell_type": "code",
   "execution_count": 2,
   "metadata": {},
   "outputs": [],
   "source": [
    "from google_play_scraper import app, reviews_all, Sort\n",
    "import pandas as pd"
   ]
  },
  {
   "cell_type": "markdown",
   "metadata": {},
   "source": [
    "## Scraping Reddit Data"
   ]
  },
  {
   "cell_type": "code",
   "execution_count": null,
   "metadata": {},
   "outputs": [],
   "source": [
    "# Target jumlah ulasan\n",
    "total_reviews = 200000\n",
    "batch_size = 10000  # Jumlah ulasan per batch\n",
    "all_reviews = []\n",
    "\n",
    "for i in tqdm(range(total_reviews // batch_size)):\n",
    "    try:\n",
    "        result, _ = reviews(\n",
    "            'com.spotify.music',  # ID aplikasi Spotify di Play Store\n",
    "            lang='id',  # Bahasa Indonesia\n",
    "            country='id',  # Negara Indonesia\n",
    "            sort=Sort.NEWEST,  # Ulasan terbaru\n",
    "            count=batch_size  # Ambil dalam batch\n",
    "        )\n",
    "        all_reviews.extend(result)  # Simpan hasil ke list\n",
    "        time.sleep(2)  # Delay agar tidak terblokir\n",
    "    except Exception as e:\n",
    "        print(f\"Error saat scraping batch {i+1}: {e}\")\n",
    "        time.sleep(5)\n",
    "\n",
    "# Konversi ke DataFrame\n",
    "df = pd.DataFrame(all_reviews)[['userName', 'score', 'content']]\n",
    "df.columns = ['username', 'rating', 'review']\n",
    "\n",
    "# Simpan dataset\n",
    "df.to_csv('spotify_reviews_200k.csv', index=False)\n",
    "\n",
    "print(\"Scraping selesai! Data disimpan sebagai 'spotify_reviews_200k.csv'\")"
   ]
  }
 ],
 "metadata": {
  "kernelspec": {
   "display_name": "bpml_env",
   "language": "python",
   "name": "python3"
  },
  "language_info": {
   "codemirror_mode": {
    "name": "ipython",
    "version": 3
   },
   "file_extension": ".py",
   "mimetype": "text/x-python",
   "name": "python",
   "nbconvert_exporter": "python",
   "pygments_lexer": "ipython3",
   "version": "3.12.2"
  }
 },
 "nbformat": 4,
 "nbformat_minor": 2
}
